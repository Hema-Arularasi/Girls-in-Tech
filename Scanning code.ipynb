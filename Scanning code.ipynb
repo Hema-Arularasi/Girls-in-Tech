{
 "cells": [
  {
   "cell_type": "markdown",
   "id": "fb45a543",
   "metadata": {},
   "source": [
    "#Model for plastic detection"
   ]
  },
  {
   "cell_type": "code",
   "execution_count": 2,
   "id": "b3fa8d18",
   "metadata": {},
   "outputs": [
    {
     "name": "stdout",
     "output_type": "stream",
     "text": [
      "Found 10 images belonging to 2 classes.\n",
      "Epoch 1/10\n",
      "1/1 [==============================] - 3s 3s/step - loss: 0.7446 - accuracy: 0.5000\n",
      "Epoch 2/10\n",
      "1/1 [==============================] - 0s 296ms/step - loss: 0.2281 - accuracy: 1.0000\n",
      "Epoch 3/10\n",
      "1/1 [==============================] - 0s 307ms/step - loss: 0.0735 - accuracy: 1.0000\n",
      "Epoch 4/10\n",
      "1/1 [==============================] - 0s 297ms/step - loss: 0.0279 - accuracy: 1.0000\n",
      "Epoch 5/10\n",
      "1/1 [==============================] - 0s 289ms/step - loss: 0.0122 - accuracy: 1.0000\n",
      "Epoch 6/10\n",
      "1/1 [==============================] - 0s 291ms/step - loss: 0.0060 - accuracy: 1.0000\n",
      "Epoch 7/10\n",
      "1/1 [==============================] - 0s 290ms/step - loss: 0.0032 - accuracy: 1.0000\n",
      "Epoch 8/10\n",
      "1/1 [==============================] - 0s 301ms/step - loss: 0.0018 - accuracy: 1.0000\n",
      "Epoch 9/10\n",
      "1/1 [==============================] - 0s 282ms/step - loss: 0.0011 - accuracy: 1.0000\n",
      "Epoch 10/10\n",
      "1/1 [==============================] - 0s 283ms/step - loss: 6.9943e-04 - accuracy: 1.0000\n"
     ]
    }
   ],
   "source": [
    "import tensorflow as tf\n",
    "from tensorflow.keras.preprocessing.image import ImageDataGenerator\n",
    "\n",
    "# Load a pre-trained model (for example, MobileNetV2)\n",
    "base_model = tf.keras.applications.MobileNetV2(input_shape=(224, 224, 3),\n",
    "                                               include_top=False,\n",
    "                                               weights='imagenet')\n",
    "\n",
    "# Freeze the layers of the pre-trained model\n",
    "for layer in base_model.layers:\n",
    "    layer.trainable = False\n",
    "\n",
    "# Add custom layers for binary classification (plastic or not)\n",
    "model = tf.keras.Sequential([\n",
    "    base_model,\n",
    "    tf.keras.layers.GlobalAveragePooling2D(),\n",
    "    tf.keras.layers.Dense(128, activation='relu'),\n",
    "    tf.keras.layers.Dense(1, activation='sigmoid')\n",
    "])\n",
    "\n",
    "# Compile the model\n",
    "model.compile(optimizer='adam', loss='binary_crossentropy', metrics=['accuracy'])\n",
    "\n",
    "# Load and preprocess your image data\n",
    "# Organize your dataset into 'plastic' and 'not_plastic' folders\n",
    "train_datagen = ImageDataGenerator(rescale=1.0/255)\n",
    "\n",
    "train_generator = train_datagen.flow_from_directory(\n",
    "    'E:\\EcoPlastic\\dataset',\n",
    "    target_size=(224, 224),\n",
    "    batch_size=32,\n",
    "    class_mode='binary'\n",
    ")\n",
    "\n",
    "# Train the model\n",
    "model.fit(train_generator, epochs=10)\n",
    "\n",
    "# Save the trained model\n",
    "model.save('plastic_classifier_model.h5')"
   ]
  },
  {
   "cell_type": "code",
   "execution_count": 3,
   "id": "377973bf",
   "metadata": {},
   "outputs": [
    {
     "name": "stdout",
     "output_type": "stream",
     "text": [
      "1/1 [==============================] - 1s 781ms/step\n",
      "The image contains plastic.\n"
     ]
    }
   ],
   "source": [
    "# Load the saved model\n",
    "loaded_model = tf.keras.models.load_model('plastic_classifier_model.h5')\n",
    "\n",
    "# Load and preprocess a single image for prediction\n",
    "image = tf.keras.preprocessing.image.load_img('E:/EcoPlastic/dataset/plastic/img5.jpg', target_size=(224, 224))\n",
    "image_array = tf.keras.preprocessing.image.img_to_array(image)\n",
    "image_array = tf.expand_dims(image_array, 0)\n",
    "image_array /= 255.0\n",
    "\n",
    "# Make a prediction\n",
    "prediction = loaded_model.predict(image_array)\n",
    "\n",
    "if prediction[0][0] > 0.5:\n",
    "    print(\"The image contains plastic.\")\n",
    "else:\n",
    "    print(\"The image does not contain plastic.\")"
   ]
  },
  {
   "cell_type": "code",
   "execution_count": 4,
   "id": "8cc65169",
   "metadata": {},
   "outputs": [
    {
     "name": "stdout",
     "output_type": "stream",
     "text": [
      "1/1 [==============================] - 1s 804ms/step\n",
      "The image does not contain plastic.\n"
     ]
    }
   ],
   "source": [
    "# Load the saved model\n",
    "loaded_model = tf.keras.models.load_model('plastic_classifier_model.h5')\n",
    "\n",
    "# Load and preprocess a single image for prediction\n",
    "image = tf.keras.preprocessing.image.load_img('E:/EcoPlastic/dataset/non plastic/img2.jpg', target_size=(224, 224))\n",
    "image_array = tf.keras.preprocessing.image.img_to_array(image)\n",
    "image_array = tf.expand_dims(image_array, 0)\n",
    "image_array /= 255.0\n",
    "\n",
    "# Make a prediction\n",
    "prediction = loaded_model.predict(image_array)\n",
    "\n",
    "if prediction[0][0] > 0.7:\n",
    "    print(\"The image contains plastic.\")\n",
    "else:\n",
    "    print(\"The image does not contain plastic.\")"
   ]
  }
 ],
 "metadata": {
  "kernelspec": {
   "display_name": "Python 3 (ipykernel)",
   "language": "python",
   "name": "python3"
  },
  "language_info": {
   "codemirror_mode": {
    "name": "ipython",
    "version": 3
   },
   "file_extension": ".py",
   "mimetype": "text/x-python",
   "name": "python",
   "nbconvert_exporter": "python",
   "pygments_lexer": "ipython3",
   "version": "3.9.12"
  }
 },
 "nbformat": 4,
 "nbformat_minor": 5
}
